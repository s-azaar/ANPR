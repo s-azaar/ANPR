{
  "nbformat": 4,
  "nbformat_minor": 0,
  "metadata": {
    "colab": {
      "name": "Inference_Plate_Text.ipynb",
      "provenance": [],
      "collapsed_sections": [],
      "toc_visible": true
    },
    "kernelspec": {
      "name": "python3",
      "display_name": "Python 3"
    },
    "accelerator": "GPU"
  },
  "cells": [
    {
      "cell_type": "markdown",
      "metadata": {
        "id": "w4mhD8_OZ_hf"
      },
      "source": [
        "# Inference"
      ]
    },
    {
      "cell_type": "markdown",
      "metadata": {
        "id": "IXF_PzUcmPoc"
      },
      "source": [
        "-1- **Download** Easyocr"
      ]
    },
    {
      "cell_type": "code",
      "metadata": {
        "id": "sKtbNX-2mYBU"
      },
      "source": [
        "! pip install easyocr"
      ],
      "execution_count": null,
      "outputs": []
    },
    {
      "cell_type": "markdown",
      "metadata": {
        "id": "t33yngnoi1rv"
      },
      "source": [
        "0- **Clone** our repository "
      ]
    },
    {
      "cell_type": "code",
      "metadata": {
        "id": "m1qajxArjByU"
      },
      "source": [
        "! git clone https://github.com/s-azaar/ANPR.git"
      ],
      "execution_count": null,
      "outputs": []
    },
    {
      "cell_type": "markdown",
      "metadata": {
        "id": "4dQ45tYZcL3f"
      },
      "source": [
        "1- **Download** the trained model"
      ]
    },
    {
      "cell_type": "code",
      "metadata": {
        "id": "q7kgeTBXcRN1"
      },
      "source": [
        "! wget --load-cookies /tmp/cookies.txt \"https://docs.google.com/uc?export=download&confirm=$(wget --quiet --save-cookies /tmp/cookies.txt --keep-session-cookies --no-check-certificate 'https://docs.google.com/uc?export=download&id=1lvN4rdkunGxSxgHzl89PKYdjTb9cpqHv' -O- | sed -rn 's/.*confirm=([0-9A-Za-z_]+).*/\\1\\n/p')&id=1lvN4rdkunGxSxgHzl89PKYdjTb9cpqHv\" -O model.weights && rm -rf /tmp/cookies.txt"
      ],
      "execution_count": null,
      "outputs": []
    },
    {
      "cell_type": "markdown",
      "metadata": {
        "id": "V9e2-w4HfkHM"
      },
      "source": [
        "2- **Move** the YOLO configrations to the main home"
      ]
    },
    {
      "cell_type": "code",
      "metadata": {
        "id": "l6eTROZbeqqq"
      },
      "source": [
        "! mv ANPR/yolov3.cfg ."
      ],
      "execution_count": 4,
      "outputs": []
    },
    {
      "cell_type": "markdown",
      "metadata": {
        "id": "diHXMAYyfs9R"
      },
      "source": [
        "3- **Move** sample images to the main home"
      ]
    },
    {
      "cell_type": "code",
      "metadata": {
        "id": "8uKOJDHahQ7s"
      },
      "source": [
        "! mv ANPR/ANPR_SAMP ."
      ],
      "execution_count": 5,
      "outputs": []
    },
    {
      "cell_type": "markdown",
      "metadata": {
        "id": "gQmK30cdiLLr"
      },
      "source": [
        "4- **Inference** time 😁"
      ]
    },
    {
      "cell_type": "code",
      "metadata": {
        "id": "Y6HHd1CDcAhR"
      },
      "source": [
        "import os\n",
        "import sys\n",
        "from IPython.display import Image\n",
        "\n",
        "sys.path.append(\"ANPR/yolov3/lib\");\n",
        "from infer_detector import Infer\n",
        "\n",
        "inference = Infer();\n",
        "f = open(\"ANPR/classes.txt\");\n",
        "class_list = f.readlines();\n",
        "f.close();\n",
        "\n",
        "model_name = \"yolov3\";\n",
        "weights = \"model.weights\";\n",
        "image_name = \"image4.jpg\"\n",
        "\n",
        "inference.Model(model_name, class_list, weights, use_gpu=False, input_size=416);\n",
        "img_path = \"ANPR_SAMP/\"+image_name;\n",
        "inference.Predict(img_path, conf_thres=0.2, iou_thres=0.5);\n",
        "filename=\"output/\"+image_name\n",
        "Image(filename)"
      ],
      "execution_count": null,
      "outputs": []
    },
    {
      "cell_type": "markdown",
      "metadata": {
        "id": "kO2onAO6YFjO"
      },
      "source": [
        "5- **Show** the License number for each plate"
      ]
    },
    {
      "cell_type": "code",
      "metadata": {
        "colab": {
          "base_uri": "https://localhost:8080/"
        },
        "id": "dJ0aYsLcnjJN",
        "outputId": "2f2ef181-88d5-4001-92d8-ee182c39ed5f"
      },
      "source": [
        "! mkdir plates_crop"
      ],
      "execution_count": 22,
      "outputs": [
        {
          "output_type": "stream",
          "text": [
            "mkdir: cannot create directory ‘plates_crop’: File exists\n"
          ],
          "name": "stdout"
        }
      ]
    },
    {
      "cell_type": "code",
      "metadata": {
        "id": "CGsNWj1ZY87c"
      },
      "source": [
        "import cv2\r\n",
        "from matplotlib import pyplot as plt\r\n",
        "import easyocr\r\n",
        "import numpy as np\r\n",
        "\r\n",
        "i=1\r\n",
        "coord_path = \"output/\"+image_name+\".txt\"\r\n",
        "paltes_path = \"plates_crop/plate\"+str(i)+\".jpg\"\r\n",
        "\r\n",
        "\r\n",
        "with open(coord_path, 'r') as fin:\r\n",
        "    data = fin.read().splitlines(True)\r\n",
        "\r\n",
        "for line in data:\r\n",
        "    \r\n",
        "    x= int (line.split(\" \")[0])\r\n",
        "    y= int (line.split(\" \")[1])\r\n",
        "    w= int (line.split(\" \")[2])\r\n",
        "    h= int (line.split(\" \")[3])\r\n",
        "    w=int (w/3)\r\n",
        "    h=int (h/9)\r\n",
        "    img = cv2.imread(img_path)\r\n",
        "    crop_img = img[y:y+h, x:x+w]\r\n",
        "    plt.imshow(crop_img)\r\n",
        "    plt.show()\r\n",
        "    cv2.imwrite(paltes_path, crop_img)\r\n",
        "    i+=1\r\n",
        "    paltes_path = \"plates_crop/plate\"+str(i)+\".jpg\"\r\n",
        "\r\n",
        "\r\n",
        "i-=1"
      ],
      "execution_count": null,
      "outputs": []
    },
    {
      "cell_type": "markdown",
      "metadata": {
        "id": "gM-0M8n_r9Yi"
      },
      "source": [
        "6- **Finally!**"
      ]
    },
    {
      "cell_type": "code",
      "metadata": {
        "id": "NUZVTi2apIB2"
      },
      "source": [
        "def concatenate_list_data(list):\r\n",
        "    result= ''\r\n",
        "    for element in list:\r\n",
        "        result += str(element)\r\n",
        "    return result\r\n",
        "\r\n",
        "k=1\r\n",
        "reader = easyocr.Reader(['en'])\r\n",
        "\r\n",
        "for j in range(i):\r\n",
        "  paltes_shows = \"plates_crop/plate\"+str(k)+\".jpg\"\r\n",
        "  result = reader.readtext(paltes_shows)\r\n",
        "  print(str(k)+\"- Plate-Lincese is: \"+ concatenate_list_data(list(tuple (result[0][1]))))\r\n",
        "  k+=1\r\n"
      ],
      "execution_count": null,
      "outputs": []
    }
  ]
}