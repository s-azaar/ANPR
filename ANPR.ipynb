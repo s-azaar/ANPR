{
  "nbformat": 4,
  "nbformat_minor": 0,
  "metadata": {
    "colab": {
      "name": "ANPR.ipynb",
      "provenance": [],
      "collapsed_sections": [],
      "toc_visible": true
    },
    "kernelspec": {
      "name": "python3",
      "display_name": "Python 3"
    },
    "accelerator": "GPU",
    "widgets": {
      "application/vnd.jupyter.widget-state+json": {
        "804e14c9eefe43fcaa23d5396f07aa97": {
          "model_module": "@jupyter-widgets/controls",
          "model_name": "HBoxModel",
          "state": {
            "_view_name": "HBoxView",
            "_dom_classes": [],
            "_model_name": "HBoxModel",
            "_view_module": "@jupyter-widgets/controls",
            "_model_module_version": "1.5.0",
            "_view_count": null,
            "_view_module_version": "1.5.0",
            "box_style": "",
            "layout": "IPY_MODEL_38945626d3f545c7a74ce07f8620a32a",
            "_model_module": "@jupyter-widgets/controls",
            "children": [
              "IPY_MODEL_a27063298dfd40129bd223b74350eb42",
              "IPY_MODEL_b8ed15bdb1294263a2f1fe7629ce948c"
            ]
          }
        },
        "38945626d3f545c7a74ce07f8620a32a": {
          "model_module": "@jupyter-widgets/base",
          "model_name": "LayoutModel",
          "state": {
            "_view_name": "LayoutView",
            "grid_template_rows": null,
            "right": null,
            "justify_content": null,
            "_view_module": "@jupyter-widgets/base",
            "overflow": null,
            "_model_module_version": "1.2.0",
            "_view_count": null,
            "flex_flow": null,
            "width": null,
            "min_width": null,
            "border": null,
            "align_items": null,
            "bottom": null,
            "_model_module": "@jupyter-widgets/base",
            "top": null,
            "grid_column": null,
            "overflow_y": null,
            "overflow_x": null,
            "grid_auto_flow": null,
            "grid_area": null,
            "grid_template_columns": null,
            "flex": null,
            "_model_name": "LayoutModel",
            "justify_items": null,
            "grid_row": null,
            "max_height": null,
            "align_content": null,
            "visibility": null,
            "align_self": null,
            "height": null,
            "min_height": null,
            "padding": null,
            "grid_auto_rows": null,
            "grid_gap": null,
            "max_width": null,
            "order": null,
            "_view_module_version": "1.2.0",
            "grid_template_areas": null,
            "object_position": null,
            "object_fit": null,
            "grid_auto_columns": null,
            "margin": null,
            "display": null,
            "left": null
          }
        },
        "a27063298dfd40129bd223b74350eb42": {
          "model_module": "@jupyter-widgets/controls",
          "model_name": "FloatProgressModel",
          "state": {
            "_view_name": "ProgressView",
            "style": "IPY_MODEL_2db3d3d5d9ee4398ab45fa771e87a65b",
            "_dom_classes": [],
            "description": "100%",
            "_model_name": "FloatProgressModel",
            "bar_style": "success",
            "max": 1737,
            "_view_module": "@jupyter-widgets/controls",
            "_model_module_version": "1.5.0",
            "value": 1737,
            "_view_count": null,
            "_view_module_version": "1.5.0",
            "orientation": "horizontal",
            "min": 0,
            "description_tooltip": null,
            "_model_module": "@jupyter-widgets/controls",
            "layout": "IPY_MODEL_cfb41e4250334703813da8431cef4524"
          }
        },
        "b8ed15bdb1294263a2f1fe7629ce948c": {
          "model_module": "@jupyter-widgets/controls",
          "model_name": "HTMLModel",
          "state": {
            "_view_name": "HTMLView",
            "style": "IPY_MODEL_a3bfbdfb52fe401ead9258810a8dec91",
            "_dom_classes": [],
            "description": "",
            "_model_name": "HTMLModel",
            "placeholder": "​",
            "_view_module": "@jupyter-widgets/controls",
            "_model_module_version": "1.5.0",
            "value": " 1737/1737 [00:08&lt;00:00, 207.23it/s]",
            "_view_count": null,
            "_view_module_version": "1.5.0",
            "description_tooltip": null,
            "_model_module": "@jupyter-widgets/controls",
            "layout": "IPY_MODEL_026fa49095f54beab5471eb103dcf67e"
          }
        },
        "2db3d3d5d9ee4398ab45fa771e87a65b": {
          "model_module": "@jupyter-widgets/controls",
          "model_name": "ProgressStyleModel",
          "state": {
            "_view_name": "StyleView",
            "_model_name": "ProgressStyleModel",
            "description_width": "initial",
            "_view_module": "@jupyter-widgets/base",
            "_model_module_version": "1.5.0",
            "_view_count": null,
            "_view_module_version": "1.2.0",
            "bar_color": null,
            "_model_module": "@jupyter-widgets/controls"
          }
        },
        "cfb41e4250334703813da8431cef4524": {
          "model_module": "@jupyter-widgets/base",
          "model_name": "LayoutModel",
          "state": {
            "_view_name": "LayoutView",
            "grid_template_rows": null,
            "right": null,
            "justify_content": null,
            "_view_module": "@jupyter-widgets/base",
            "overflow": null,
            "_model_module_version": "1.2.0",
            "_view_count": null,
            "flex_flow": null,
            "width": null,
            "min_width": null,
            "border": null,
            "align_items": null,
            "bottom": null,
            "_model_module": "@jupyter-widgets/base",
            "top": null,
            "grid_column": null,
            "overflow_y": null,
            "overflow_x": null,
            "grid_auto_flow": null,
            "grid_area": null,
            "grid_template_columns": null,
            "flex": null,
            "_model_name": "LayoutModel",
            "justify_items": null,
            "grid_row": null,
            "max_height": null,
            "align_content": null,
            "visibility": null,
            "align_self": null,
            "height": null,
            "min_height": null,
            "padding": null,
            "grid_auto_rows": null,
            "grid_gap": null,
            "max_width": null,
            "order": null,
            "_view_module_version": "1.2.0",
            "grid_template_areas": null,
            "object_position": null,
            "object_fit": null,
            "grid_auto_columns": null,
            "margin": null,
            "display": null,
            "left": null
          }
        },
        "a3bfbdfb52fe401ead9258810a8dec91": {
          "model_module": "@jupyter-widgets/controls",
          "model_name": "DescriptionStyleModel",
          "state": {
            "_view_name": "StyleView",
            "_model_name": "DescriptionStyleModel",
            "description_width": "",
            "_view_module": "@jupyter-widgets/base",
            "_model_module_version": "1.5.0",
            "_view_count": null,
            "_view_module_version": "1.2.0",
            "_model_module": "@jupyter-widgets/controls"
          }
        },
        "026fa49095f54beab5471eb103dcf67e": {
          "model_module": "@jupyter-widgets/base",
          "model_name": "LayoutModel",
          "state": {
            "_view_name": "LayoutView",
            "grid_template_rows": null,
            "right": null,
            "justify_content": null,
            "_view_module": "@jupyter-widgets/base",
            "overflow": null,
            "_model_module_version": "1.2.0",
            "_view_count": null,
            "flex_flow": null,
            "width": null,
            "min_width": null,
            "border": null,
            "align_items": null,
            "bottom": null,
            "_model_module": "@jupyter-widgets/base",
            "top": null,
            "grid_column": null,
            "overflow_y": null,
            "overflow_x": null,
            "grid_auto_flow": null,
            "grid_area": null,
            "grid_template_columns": null,
            "flex": null,
            "_model_name": "LayoutModel",
            "justify_items": null,
            "grid_row": null,
            "max_height": null,
            "align_content": null,
            "visibility": null,
            "align_self": null,
            "height": null,
            "min_height": null,
            "padding": null,
            "grid_auto_rows": null,
            "grid_gap": null,
            "max_width": null,
            "order": null,
            "_view_module_version": "1.2.0",
            "grid_template_areas": null,
            "object_position": null,
            "object_fit": null,
            "grid_auto_columns": null,
            "margin": null,
            "display": null,
            "left": null
          }
        }
      }
    }
  },
  "cells": [
    {
      "cell_type": "markdown",
      "metadata": {
        "id": "IHvcqtGgZK6f"
      },
      "source": [
        "# Table of Contents\n",
        "\n"
      ]
    },
    {
      "cell_type": "markdown",
      "metadata": {
        "id": "iUMw1pShYlWZ"
      },
      "source": [
        "**1. Installation Instructions**"
      ]
    },
    {
      "cell_type": "markdown",
      "metadata": {
        "id": "BZnrbD-7YqdY"
      },
      "source": [
        "  **2.   Data Preprocessing**"
      ]
    },
    {
      "cell_type": "markdown",
      "metadata": {
        "id": "_mSH5fYmYvPH"
      },
      "source": [
        "**3. Model Building**"
      ]
    },
    {
      "cell_type": "markdown",
      "metadata": {
        "id": "ARmr0BDxpveU"
      },
      "source": [
        "# Installation Instructions \n"
      ]
    },
    {
      "cell_type": "markdown",
      "metadata": {
        "id": "tHdr9XI_Svf5"
      },
      "source": [
        "1.   **Clone** our GitHub repository\n"
      ]
    },
    {
      "cell_type": "code",
      "metadata": {
        "id": "8TUTsPjTRYFV"
      },
      "source": [
        "! git clone https://github.com/s-azaar/document_layout_segmentation.git      "
      ],
      "execution_count": null,
      "outputs": []
    },
    {
      "cell_type": "markdown",
      "metadata": {
        "id": "NZAHHcsrS4cU"
      },
      "source": [
        "2.   **Download** the requirements of yolov3\n",
        "\n"
      ]
    },
    {
      "cell_type": "code",
      "metadata": {
        "id": "NymLtTTETBUX"
      },
      "source": [
        "! cd document_layout_segmentation/yolov3/installation && cat requirements_colab.txt | xargs -n 1 -L 1 pip install\n",
        "! pip install unrar"
      ],
      "execution_count": null,
      "outputs": []
    },
    {
      "cell_type": "markdown",
      "metadata": {
        "id": "mnfirKizTJg7"
      },
      "source": [
        "3.  **Download** Plates' dataset\n"
      ]
    },
    {
      "cell_type": "code",
      "metadata": {
        "id": "DgBFOQ0-TLFS"
      },
      "source": [
        "! wget --load-cookies /tmp/cookies.txt \"https://docs.google.com/uc?export=download&confirm=$(wget --quiet --save-cookies /tmp/cookies.txt --keep-session-cookies --no-check-certificate 'https://docs.google.com/uc?export=download&id=16uHETYgYABxAbcpsTz2m6zgWxMdVJuF6' -O- | sed -rn 's/.*confirm=([0-9A-Za-z_]+).*/\\1\\n/p')&id=16uHETYgYABxAbcpsTz2m6zgWxMdVJuF6\" -O PalestinePlateDataSet.rar && rm -rf /tmp/cookies.txt\n"
      ],
      "execution_count": null,
      "outputs": []
    },
    {
      "cell_type": "markdown",
      "metadata": {
        "id": "dlSPA7Z1cn8K"
      },
      "source": [
        "# Data Preprocessing"
      ]
    },
    {
      "cell_type": "markdown",
      "metadata": {
        "id": "kCbBVzxbUrEh"
      },
      "source": [
        "1. **Unrar** the cars' dataset."
      ]
    },
    {
      "cell_type": "code",
      "metadata": {
        "id": "1l0IxxBEUuAX"
      },
      "source": [
        "! unrar x PalestinePlateDataSet.rar"
      ],
      "execution_count": null,
      "outputs": []
    },
    {
      "cell_type": "markdown",
      "metadata": {
        "id": "-Yrd_fWeczt6"
      },
      "source": [
        "\n",
        "2.   **Rmoave** the first line which is the plate number\n",
        "\n"
      ]
    },
    {
      "cell_type": "code",
      "metadata": {
        "id": "gFraUu2GefDd"
      },
      "source": [
        "# Import the necessary libraries \n",
        "import glob\n",
        "import os.path\n",
        "from tqdm.notebook import tqdm"
      ],
      "execution_count": 5,
      "outputs": []
    },
    {
      "cell_type": "code",
      "metadata": {
        "id": "1VnrGS4ojQLH"
      },
      "source": [
        "# Added files directory\n",
        "dataset_dir = \"PalestinePlateDataSet/\";\n",
        "anno_dir = \"annotation/\";\n",
        "images_dir = \"images/\";"
      ],
      "execution_count": 6,
      "outputs": []
    },
    {
      "cell_type": "code",
      "metadata": {
        "id": "8SpnTNEmiuQf"
      },
      "source": [
        "# Run removing process\n",
        "for name in tqdm(glob.glob(dataset_dir+anno_dir+'*.txt')):\n",
        "    with open(name, 'r') as fin:\n",
        "      data = fin.read().splitlines(True)\n",
        "    with open(name, 'w') as fout:\n",
        "      fout.writelines(data[1:])\n"
      ],
      "execution_count": null,
      "outputs": []
    },
    {
      "cell_type": "markdown",
      "metadata": {
        "id": "_xQNzjswVVpP"
      },
      "source": [
        "3. **ADD** Plate word at the beginning of each file in the annotation files for the training purpose "
      ]
    },
    {
      "cell_type": "code",
      "metadata": {
        "id": "6NRfwO-BoDKW"
      },
      "source": [
        "# Run removing process\n",
        "for name in tqdm(glob.glob(dataset_dir+anno_dir+'*.txt')):\n",
        "    with open(name, 'r') as fin:\n",
        "      data = fin.read()\n",
        "    with open(name, 'w') as fout:\n",
        "      fout.writelines(\"0\"+\" \"+data)\n",
        "    "
      ],
      "execution_count": null,
      "outputs": []
    },
    {
      "cell_type": "markdown",
      "metadata": {
        "id": "CcINsPNCsTKi"
      },
      "source": [
        "4. **Remove** unneeded  images because of their quality "
      ]
    },
    {
      "cell_type": "code",
      "metadata": {
        "id": "aanTZGQQsSpE"
      },
      "source": [
        "# Run removing process\r\n",
        "\r\n",
        "with open(dataset_dir+\"skipped_images.txt\", 'r') as fin:\r\n",
        "    data = fin.read().splitlines(False)\r\n",
        "\r\n",
        "for name in data:\r\n",
        "  try:\r\n",
        "      os.remove(dataset_dir+anno_dir+name+\".txt\")\r\n",
        "  except:\r\n",
        "      print(name)\r\n",
        "  os.remove(dataset_dir+images_dir+name+\".jpg\")\r\n",
        "\r\n",
        "# to remove the images that don't't exist\r\n",
        "for name_image in tqdm(glob.glob(dataset_dir+images_dir+'*.jpg')):\r\n",
        "    name_anno = name_image.split(\"/\")[2].split(\".\")[0]+\".txt\"\r\n",
        "    if  os.path.exists(dataset_dir+anno_dir+name_anno):\r\n",
        "        continue\r\n",
        "    else:\r\n",
        "       os.remove(name_image)"
      ],
      "execution_count": null,
      "outputs": []
    },
    {
      "cell_type": "code",
      "metadata": {
        "id": "PY53tLsD13DA"
      },
      "source": [
        ""
      ],
      "execution_count": null,
      "outputs": []
    },
    {
      "cell_type": "markdown",
      "metadata": {
        "id": "qnrpkb8ew88b"
      },
      "source": [
        "5. **Adjust** the bounded boxes "
      ]
    },
    {
      "cell_type": "code",
      "metadata": {
        "id": "psi63TMt_rtL",
        "colab": {
          "base_uri": "https://localhost:8080/",
          "height": 66,
          "referenced_widgets": [
            "804e14c9eefe43fcaa23d5396f07aa97",
            "38945626d3f545c7a74ce07f8620a32a",
            "a27063298dfd40129bd223b74350eb42",
            "b8ed15bdb1294263a2f1fe7629ce948c",
            "2db3d3d5d9ee4398ab45fa771e87a65b",
            "cfb41e4250334703813da8431cef4524",
            "a3bfbdfb52fe401ead9258810a8dec91",
            "026fa49095f54beab5471eb103dcf67e"
          ]
        },
        "outputId": "4ddbc2fb-7b51-47b9-fe4a-a37cb8b16186"
      },
      "source": [
        "# Adjust the bounding box\n",
        "from PIL import Image \n",
        "\n",
        "for name in tqdm(glob.glob(dataset_dir+anno_dir+'*.txt')):\n",
        "    with open(name, 'r') as fin:\n",
        "      data = fin.read()\n",
        "    \n",
        "    img_file = name.split(\"/\")\n",
        "    img = Image.open(dataset_dir  + images_dir  + img_file[2].split(\".\")[0] + \".jpg\");\n",
        "    width, height = img.size\n",
        "    remove_space = data.split(\" \")\n",
        "    img_file = name;\n",
        "    label = remove_space[0];\n",
        "    x1 =  int (remove_space[1]);\n",
        "    y1 =  int (remove_space[2]);\n",
        "    x2 =  int (remove_space[3]);\n",
        "    y2 =  int (remove_space[4]);\n",
        "\n",
        "    x_c = str(((x1 + x2)/2)/width);\n",
        "    y_c = str(((y1 + y2)/2)/height);\n",
        "    w = str((x2 - x1)/width);\n",
        "    h = str((y2 - y1)/height);\n",
        "\n",
        "    with open(name, 'w') as filetowrite:\n",
        "          filetowrite.writelines(label + \" \" + x_c + \" \" + y_c + \" \" + w + \" \" + h)\n",
        "    \n"
      ],
      "execution_count": 17,
      "outputs": [
        {
          "output_type": "display_data",
          "data": {
            "application/vnd.jupyter.widget-view+json": {
              "model_id": "804e14c9eefe43fcaa23d5396f07aa97",
              "version_minor": 0,
              "version_major": 2
            },
            "text/plain": [
              "HBox(children=(FloatProgress(value=0.0, max=1737.0), HTML(value='')))"
            ]
          },
          "metadata": {
            "tags": []
          }
        },
        {
          "output_type": "stream",
          "text": [
            "\n"
          ],
          "name": "stdout"
        }
      ]
    },
    {
      "cell_type": "markdown",
      "metadata": {
        "id": "7AymUxOqVgrV"
      },
      "source": [
        "6. **ADD** classs file"
      ]
    },
    {
      "cell_type": "code",
      "metadata": {
        "id": "xvKBk7PvmbwP"
      },
      "source": [
        "! touch classes.txt\r\n",
        "! echo Plate > classes.txt"
      ],
      "execution_count": 7,
      "outputs": []
    },
    {
      "cell_type": "markdown",
      "metadata": {
        "id": "rSj5kNWpstAK"
      },
      "source": [
        "# Model Building "
      ]
    },
    {
      "cell_type": "markdown",
      "metadata": {
        "id": "Wn7_vgUFs8Mv"
      },
      "source": [
        "1. **Import** all necessary classes"
      ]
    },
    {
      "cell_type": "code",
      "metadata": {
        "id": "MxQsDu88tLLO"
      },
      "source": [
        "import os\n",
        "import sys\n",
        "sys.path.append(\"document_layout_segmentation/yolov3/lib\")\n",
        "from train_detector import Detector\n",
        "detect_image = Detector();"
      ],
      "execution_count": 5,
      "outputs": []
    },
    {
      "cell_type": "markdown",
      "metadata": {
        "id": "TdlM_e6Vtf6P"
      },
      "source": [
        "2. **Load** all necessary directory"
      ]
    },
    {
      "cell_type": "code",
      "metadata": {
        "id": "xdj5DEPBtevv"
      },
      "source": [
        "#dataset directories\n",
        "img_dir = \"PalestinePlateDataSet/images/\"\n",
        "label_dir = \"PalestinePlateDataSet/annotation/\"\n",
        "class_list_file = \"classes.txt\""
      ],
      "execution_count": 6,
      "outputs": []
    },
    {
      "cell_type": "markdown",
      "metadata": {
        "id": "Tp78bx07wk41"
      },
      "source": [
        "3. **Start** learning process"
      ]
    },
    {
      "cell_type": "code",
      "metadata": {
        "id": "TXy5rgO0wrP_"
      },
      "source": [
        "detect_image.set_model(model_name=\"yolov3\");\n",
        "detect_image.set_train_dataset(img_dir, label_dir, class_list_file, batch_size=16)\n",
        "detect_image.set_val_dataset(img_dir, label_dir)\n",
        "detect_image.set_hyperparams(optimizer=\"sgd\", lr=0.003, multi_scale=False, evolve=False);\n",
        "detect_image.Train(num_epochs=30);"
      ],
      "execution_count": null,
      "outputs": []
    }
  ]
}